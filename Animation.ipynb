{
 "cells": [
  {
   "cell_type": "code",
   "execution_count": null,
   "metadata": {
    "collapsed": false
   },
   "outputs": [],
   "source": [
    "import os, math\n",
    "import warnings\n",
    "\n",
    "from MDAnalysis import Universe, Writer\n",
    "import nglview as nv\n",
    "import mdtraj\n",
    "\n",
    "from moleidoscope.linker import Linker\n",
    "warnings.filterwarnings('ignore') # MDAnalysis creates a lot of warnings"
   ]
  },
  {
   "cell_type": "code",
   "execution_count": null,
   "metadata": {
    "collapsed": false
   },
   "outputs": [],
   "source": [
    "# Create a linker and rotate it multiple times\n",
    "linker1 = Linker(123)\n",
    "\n",
    "# Determine rotation -> [angle, p1, p2] where p1----p2 is the rotation axis\n",
    "rotation_info = [math.pi/12, [0, 0, 0], [1, 0, 0]]\n",
    "\n",
    "# Rotate linker and export\n",
    "for i in range(240):\n",
    "    linker1 = linker1.rotate(rotation_info)\n",
    "    linker1.name = 'rotation-%i' % i\n",
    "    linker1.export()\n",
    "\n",
    "# Get linker paths in a list\n",
    "l = os.listdir('linkers')\n",
    "linkers = []\n",
    "for link in l:\n",
    "    if 'rotation-' in link:\n",
    "        linkers.append([os.path.join(os.getcwd(), 'linkers', link), int(link.split('-')[1].split('.')[0])])\n",
    "        \n",
    "linkers = sorted(linkers, key=lambda x: x[1])\n",
    "linkers = [i[0] for i in linkers]"
   ]
  },
  {
   "cell_type": "code",
   "execution_count": null,
   "metadata": {
    "collapsed": false
   },
   "outputs": [],
   "source": [
    "# Create a trajectory from file path list and save as XTC\n",
    "T = mdtraj.load(linkers)\n",
    "traj_path = os.path.join('linkers', 'rot_traj.xtc')\n",
    "T.save_xtc(traj_path, force_overwrite=True)\n",
    "\n",
    "# Create a MDAnalysis Universe and show animation\n",
    "u = Universe(linkers[6], traj_path)\n",
    "nv.show_mdanalysis(u)"
   ]
  },
  {
   "cell_type": "code",
   "execution_count": null,
   "metadata": {
    "collapsed": false
   },
   "outputs": [],
   "source": []
  },
  {
   "cell_type": "code",
   "execution_count": null,
   "metadata": {
    "collapsed": false
   },
   "outputs": [],
   "source": []
  },
  {
   "cell_type": "code",
   "execution_count": null,
   "metadata": {
    "collapsed": false
   },
   "outputs": [],
   "source": []
  },
  {
   "cell_type": "code",
   "execution_count": null,
   "metadata": {
    "collapsed": false
   },
   "outputs": [],
   "source": []
  },
  {
   "cell_type": "code",
   "execution_count": null,
   "metadata": {
    "collapsed": false
   },
   "outputs": [],
   "source": []
  },
  {
   "cell_type": "code",
   "execution_count": null,
   "metadata": {
    "collapsed": false
   },
   "outputs": [],
   "source": []
  },
  {
   "cell_type": "code",
   "execution_count": null,
   "metadata": {
    "collapsed": false
   },
   "outputs": [],
   "source": []
  },
  {
   "cell_type": "code",
   "execution_count": null,
   "metadata": {
    "collapsed": true
   },
   "outputs": [],
   "source": []
  }
 ],
 "metadata": {
  "kernelspec": {
   "display_name": "Python 3",
   "language": "python",
   "name": "python3"
  },
  "language_info": {
   "codemirror_mode": {
    "name": "ipython",
    "version": 3
   },
   "file_extension": ".py",
   "mimetype": "text/x-python",
   "name": "python",
   "nbconvert_exporter": "python",
   "pygments_lexer": "ipython3",
   "version": "3.5.1"
  }
 },
 "nbformat": 4,
 "nbformat_minor": 0
}
