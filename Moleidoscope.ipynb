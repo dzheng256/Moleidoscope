{
 "cells": [
  {
   "cell_type": "code",
   "execution_count": null,
   "metadata": {
    "collapsed": false
   },
   "outputs": [],
   "source": [
    "import os\n",
    "import math\n",
    "from moleidoscope.linker import Linker\n",
    "from moleidoscope.geo.coor import Coor, Mirror"
   ]
  },
  {
   "cell_type": "code",
   "execution_count": null,
   "metadata": {
    "collapsed": false
   },
   "outputs": [],
   "source": [
    "l1 = Linker(21)\n",
    "l1.view()"
   ]
  },
  {
   "cell_type": "code",
   "execution_count": null,
   "metadata": {
    "collapsed": false
   },
   "outputs": [],
   "source": [
    "m = Mirror('xy')\n",
    "lm = m.to_linker(Linker())\n",
    "l2 = l1.mirror('xy')\n",
    "\n",
    "l3 = l1.join(l2)\n",
    "l4 = l3.join(lm)\n",
    "\n",
    "l4.view()"
   ]
  },
  {
   "cell_type": "code",
   "execution_count": null,
   "metadata": {
    "collapsed": false
   },
   "outputs": [],
   "source": [
    "rotation_info = [math.pi, [0, 0, 0], [0, 0, 1]]\n",
    "\n",
    "l3 = l2.rotate(rotation_info)"
   ]
  },
  {
   "cell_type": "code",
   "execution_count": null,
   "metadata": {
    "collapsed": false
   },
   "outputs": [],
   "source": [
    "l_axis = Linker()\n",
    "l_axis.name = 'x-axis'\n",
    "l_axis.atom_coors = axis_coors\n",
    "l_axis.atom_names = axis_names\n",
    "\n",
    "l2 = l1.mirror('xy')\n",
    "l2.translate([0, 0, -14])\n",
    "l3 = l1.join(l2)"
   ]
  },
  {
   "cell_type": "code",
   "execution_count": null,
   "metadata": {
    "collapsed": false
   },
   "outputs": [],
   "source": [
    "l_axis.translate([-5, -5, -7])\n",
    "lax = l3.join(l_axis)\n",
    "lax.view()\n",
    "#lax.translate([10, 0, 0])\n",
    "#l6 = l5.join(l2)\n",
    "#l6.view()"
   ]
  },
  {
   "cell_type": "code",
   "execution_count": null,
   "metadata": {
    "collapsed": true
   },
   "outputs": [],
   "source": []
  },
  {
   "cell_type": "code",
   "execution_count": null,
   "metadata": {
    "collapsed": true
   },
   "outputs": [],
   "source": []
  }
 ],
 "metadata": {
  "kernelspec": {
   "display_name": "Python 3",
   "language": "python",
   "name": "python3"
  },
  "language_info": {
   "codemirror_mode": {
    "name": "ipython",
    "version": 3
   },
   "file_extension": ".py",
   "mimetype": "text/x-python",
   "name": "python",
   "nbconvert_exporter": "python",
   "pygments_lexer": "ipython3",
   "version": "3.5.1"
  }
 },
 "nbformat": 4,
 "nbformat_minor": 0
}
