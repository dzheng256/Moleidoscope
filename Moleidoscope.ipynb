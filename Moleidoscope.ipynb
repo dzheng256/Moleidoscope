{
 "cells": [
  {
   "cell_type": "code",
   "execution_count": null,
   "metadata": {
    "collapsed": false
   },
   "outputs": [],
   "source": [
    "import os\n",
    "import math\n",
    "from moleidoscope.linker import Linker\n",
    "from moleidoscope.geo.coor import Coor, Mirror"
   ]
  },
  {
   "cell_type": "code",
   "execution_count": null,
   "metadata": {
    "collapsed": false
   },
   "outputs": [],
   "source": [
    "l1 = Linker(21)\n",
    "l1.view()"
   ]
  },
  {
   "cell_type": "code",
   "execution_count": null,
   "metadata": {
    "collapsed": false
   },
   "outputs": [],
   "source": [
    "l2 = l1.mirror('yz')\n",
    "l2.view()"
   ]
  },
  {
   "cell_type": "code",
   "execution_count": null,
   "metadata": {
    "collapsed": false
   },
   "outputs": [],
   "source": [
    "rotation_info = [math.pi, [0, 0, 0], [0, 0, 1]]\n",
    "\n",
    "l3 = l2.rotate(rotation_info)"
   ]
  },
  {
   "cell_type": "code",
   "execution_count": null,
   "metadata": {
    "collapsed": false
   },
   "outputs": [],
   "source": [
    "from moleidoscope.geo.coor import Coor, Mirror\n",
    "\n",
    "p1 = Coor([0,0,0])\n",
    "p2 = Coor([1,0,0])\n",
    "p3 = Coor([0,1,0])\n",
    "\n",
    "grid_size = 10\n",
    "\n",
    "def lin(p1, p2, grid_size=10):\n",
    "    if p1[0] - p2[0] == 0:\n",
    "        p1[0] += 1E-5\n",
    "    if p1[1] - p2[1] == 0:\n",
    "        p1[1] += 1E-5\n",
    "    if p1[2] - p2[2] == 0:\n",
    "        p1[2] += 1E-5\n",
    "    x_lin = np.linspace(p1[0], p2[0], grid_size)\n",
    "    y_lin = np.linspace(p1[1], p2[1], grid_size)\n",
    "    z_lin = np.linspace(p1[2], p2[2], grid_size)\n",
    "    coors = []\n",
    "    for x, y, z in zip(x_lin, y_lin, z_lin):\n",
    "        coors.append([x, y, z])\n",
    "        \n",
    "    return coors\n",
    "\n",
    "\n",
    "\n",
    "all_coors = lin(p2.xyz(), p1.xyz())\n",
    "step_coors = lin(p3.xyz(), p2.xyz())\n",
    "new_coors = []\n",
    "\n",
    "for coor in step_coors:\n",
    "    \n",
    "    p2_0 = Coor(coor)\n",
    "    p1_0 = p1 + (p2_0 - p2)\n",
    "    new_coors = lin(p2_0.xyz(), p1_0.xyz())\n",
    "    \n",
    "    all_coors += new_coors"
   ]
  },
  {
   "cell_type": "code",
   "execution_count": null,
   "metadata": {
    "collapsed": false
   },
   "outputs": [],
   "source": [
    "import numpy as np\n",
    "length = 10\n",
    "grid_size = 10\n",
    "p1 = [0,0,0]\n",
    "p2 = [1,0,0]\n",
    "p3 = [0,1,0]\n",
    "\n",
    "\n",
    "nx, ny, nz = (grid_size, grid_size, grid_size)\n",
    "x = np.linspace(0, length, nx)\n",
    "y = np.linspace(0, length, ny)\n",
    "z = np.linspace(0, length, nz)\n",
    "xv, yv, zv = np.meshgrid(x, y, z)"
   ]
  },
  {
   "cell_type": "code",
   "execution_count": null,
   "metadata": {
    "collapsed": false
   },
   "outputs": [],
   "source": [
    "import numpy as np\n",
    "from mpl_toolkits.mplot3d import Axes3D\n",
    "import matplotlib.pyplot as plt\n",
    "\n",
    "from mpl_toolkits.mplot3d import proj3d\n",
    "\n",
    "def orthogonal_proj(zfront, zback):\n",
    "    a = (zfront + zback) / (zfront - zback)\n",
    "    b = -2 * (zfront * zback) / (zfront - zback)\n",
    "    return np.array([[1, 0, 0, 0],\n",
    "                    [0, 1, 0, 0],\n",
    "                    [0, 0, a, b],\n",
    "                    [0, 0, 0, zback]])\n",
    "proj3d.persp_transformation = orthogonal_proj\n",
    "\n",
    "fig = plt.figure(figsize=(10, 8))\n",
    "ax = fig.add_subplot(111, projection='3d')\n",
    "\n",
    "for coor in all_coors:\n",
    "    ax.scatter(coor[0], coor[1], coor[2])\n",
    "\n",
    "ax.set_xlabel('X')\n",
    "ax.set_ylabel('Y')\n",
    "ax.set_zlabel('Z')\n",
    "\n",
    "ax.azim = 90\n",
    "ax.elev = 0\n",
    "\n",
    "plt.show()"
   ]
  },
  {
   "cell_type": "code",
   "execution_count": null,
   "metadata": {
    "collapsed": false
   },
   "outputs": [],
   "source": [
    "axis_names = ['N'] * 10\n",
    "axis_coors = []\n",
    "for i in range(10):\n",
    "    axis_coors.append([0, i/2, 0])"
   ]
  },
  {
   "cell_type": "code",
   "execution_count": null,
   "metadata": {
    "collapsed": false
   },
   "outputs": [],
   "source": [
    "l_axis = Linker()\n",
    "l_axis.name = 'x-axis'\n",
    "l_axis.atom_coors = axis_coors\n",
    "l_axis.atom_names = axis_names"
   ]
  },
  {
   "cell_type": "code",
   "execution_count": null,
   "metadata": {
    "collapsed": false
   },
   "outputs": [],
   "source": [
    "# l_axis.translate([-5, 0, 0])\n",
    "l5 = l4.join(l_axis)\n",
    "l5.translate([10, 0, 0])\n",
    "l6 = l5.join(l2)\n",
    "l6.view()"
   ]
  },
  {
   "cell_type": "code",
   "execution_count": null,
   "metadata": {
    "collapsed": false
   },
   "outputs": [],
   "source": []
  },
  {
   "cell_type": "code",
   "execution_count": null,
   "metadata": {
    "collapsed": false
   },
   "outputs": [],
   "source": []
  },
  {
   "cell_type": "code",
   "execution_count": null,
   "metadata": {
    "collapsed": false
   },
   "outputs": [],
   "source": []
  },
  {
   "cell_type": "code",
   "execution_count": null,
   "metadata": {
    "collapsed": true
   },
   "outputs": [],
   "source": []
  },
  {
   "cell_type": "code",
   "execution_count": null,
   "metadata": {
    "collapsed": true
   },
   "outputs": [],
   "source": []
  }
 ],
 "metadata": {
  "kernelspec": {
   "display_name": "Python 3",
   "language": "python",
   "name": "python3"
  },
  "language_info": {
   "codemirror_mode": {
    "name": "ipython",
    "version": 3
   },
   "file_extension": ".py",
   "mimetype": "text/x-python",
   "name": "python",
   "nbconvert_exporter": "python",
   "pygments_lexer": "ipython3",
   "version": "3.5.1"
  }
 },
 "nbformat": 4,
 "nbformat_minor": 0
}
