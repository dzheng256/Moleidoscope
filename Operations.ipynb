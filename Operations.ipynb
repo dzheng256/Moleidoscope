{
 "cells": [
  {
   "cell_type": "code",
   "execution_count": null,
   "metadata": {
    "collapsed": false
   },
   "outputs": [],
   "source": [
    "import os\n",
    "import math\n",
    "import nglview\n",
    "from ipywidgets import widgets\n",
    "\n",
    "from moleidoscope.linker import Linker, view_linkers\n",
    "from moleidoscope.geo.coor import Coor\n",
    "from moleidoscope.mirror import Mirror\n",
    "from moleidoscope.line import Line"
   ]
  },
  {
   "cell_type": "markdown",
   "metadata": {},
   "source": [
    "## Display Linkers ##"
   ]
  },
  {
   "cell_type": "code",
   "execution_count": null,
   "metadata": {
    "collapsed": false
   },
   "outputs": [],
   "source": [
    "# 1 - Display linker\n",
    "link1 = Linker(21)\n",
    "link1.view()"
   ]
  },
  {
   "cell_type": "markdown",
   "metadata": {},
   "source": [
    "## Translation ##"
   ]
  },
  {
   "cell_type": "code",
   "execution_count": null,
   "metadata": {
    "collapsed": false
   },
   "outputs": [],
   "source": [
    "# 2 - Translate linker, display multiple linkers\n",
    "link1 = Linker(21)\n",
    "\n",
    "link2 = Linker(21)\n",
    " # linker.translate([x, y, z])\n",
    "def f(x):\n",
    "    print('Translating %i ...' %x)\n",
    "    link2.translate([x, 0, 0])\n",
    "    return view_linkers(link1, link2)\n",
    "\n",
    "widgets.interact(f, x=(0., 20., 2))"
   ]
  },
  {
   "cell_type": "markdown",
   "metadata": {},
   "source": [
    "## Reflection in common planes ##"
   ]
  },
  {
   "cell_type": "code",
   "execution_count": null,
   "metadata": {
    "collapsed": false
   },
   "outputs": [],
   "source": [
    "link = Linker(142)                                   # Create a new linker from library\n",
    "link.center(coor=[5, 5, 5])                          # Center the linker to [5, 5, 5]\n",
    "\n",
    "link2 = link.reflect('xy', translate=None)           # Reflect along XY plane\n",
    "link3 = link.reflect('xz', translate=None)           # Reflect along XZ plane\n",
    "link4 = link.reflect('yz', translate=None)           # Reflect along YZ plane\n",
    "\n",
    "view_linkers(link, link2, link3, link4,\n",
    "             Line.xyz(size=20),                      # xyz axis\n",
    "             Mirror('xy').to_linker(),               # XY plane -> blue\n",
    "             Mirror('yz').to_linker(atom_type='O'),  # YZ plane -> red\n",
    "             Mirror('xz').to_linker(atom_type='C'))  # XZ plane -> gray"
   ]
  },
  {
   "cell_type": "markdown",
   "metadata": {},
   "source": [
    "## Reflection in arbitrary planes"
   ]
  },
  {
   "cell_type": "code",
   "execution_count": null,
   "metadata": {
    "collapsed": false
   },
   "outputs": [],
   "source": [
    "# 1 Reflection in common planes\n",
    "\n",
    "link = Linker(142)\n",
    "link.translate([5, 3, 5])\n",
    "\n",
    "# Define a plane in 3D space for reflection\n",
    "p1 = [1, 2, 6]\n",
    "p2 = [10, 4, -9]\n",
    "p3 = [-0.1, 4, 0]\n",
    "mir = Mirror(p1, p2, p3, size=1)\n",
    "#link.center(mirror=mir)\n",
    "\n",
    "link2 = link.reflect(mir)\n",
    "view_linkers(link, link2, mir.to_linker())"
   ]
  },
  {
   "cell_type": "markdown",
   "metadata": {},
   "source": [
    "## Rotation"
   ]
  },
  {
   "cell_type": "code",
   "execution_count": null,
   "metadata": {
    "collapsed": false
   },
   "outputs": [],
   "source": [
    "# ROTATION ---------------------------------------------------------\n",
    "\n",
    "# Determine rotation -> [angle, p1, p2] where p1----p2 is the rotation axis\n",
    "rotation_info = [math.pi, [0, 0, 0], [1, 0, 0]]\n",
    "\n",
    "# Rotate l1\n",
    "l4 = l1.rotate(rotation_info)\n",
    "l4.translate([0, 0, -6])\n",
    "\n",
    "# Join rotated and original linkers\n",
    "l5 = l4.join(l1)\n",
    "l5.view()"
   ]
  },
  {
   "cell_type": "markdown",
   "metadata": {},
   "source": [
    "## Rotoreflection (Improper Rotation)"
   ]
  },
  {
   "cell_type": "code",
   "execution_count": null,
   "metadata": {
    "collapsed": true
   },
   "outputs": [],
   "source": [
    "# ROTOREFLECTION (Improper Rotation) ---------------------------------------------\n",
    "\n",
    "# Determine rotation -> [angle, p1, p2] where p1----p2 is the rotation axis\n",
    "rotation_info = [math.pi, [0, 0, 0], [1, 0, 0]]\n",
    "# Determine reflection plane as 'xy\n",
    "\n",
    "lr = l1.rotoreflect(rotation_info, 'xy')\n",
    "lr.translate([0, 0, -7])\n",
    "\n",
    "# Join rotoreflection and original linker and plane\n",
    "lr = lr.join(l1)\n",
    "\n",
    "lr.view()"
   ]
  },
  {
   "cell_type": "code",
   "execution_count": null,
   "metadata": {
    "collapsed": false
   },
   "outputs": [],
   "source": []
  },
  {
   "cell_type": "code",
   "execution_count": null,
   "metadata": {
    "collapsed": true
   },
   "outputs": [],
   "source": []
  },
  {
   "cell_type": "code",
   "execution_count": null,
   "metadata": {
    "collapsed": false
   },
   "outputs": [],
   "source": []
  },
  {
   "cell_type": "code",
   "execution_count": null,
   "metadata": {
    "collapsed": false
   },
   "outputs": [],
   "source": []
  },
  {
   "cell_type": "code",
   "execution_count": null,
   "metadata": {
    "collapsed": false
   },
   "outputs": [],
   "source": []
  },
  {
   "cell_type": "code",
   "execution_count": null,
   "metadata": {
    "collapsed": false
   },
   "outputs": [],
   "source": []
  },
  {
   "cell_type": "code",
   "execution_count": null,
   "metadata": {
    "collapsed": false
   },
   "outputs": [],
   "source": []
  },
  {
   "cell_type": "code",
   "execution_count": null,
   "metadata": {
    "collapsed": true
   },
   "outputs": [],
   "source": []
  }
 ],
 "metadata": {
  "kernelspec": {
   "display_name": "Python 3",
   "language": "python",
   "name": "python3"
  },
  "language_info": {
   "codemirror_mode": {
    "name": "ipython",
    "version": 3
   },
   "file_extension": ".py",
   "mimetype": "text/x-python",
   "name": "python",
   "nbconvert_exporter": "python",
   "pygments_lexer": "ipython3",
   "version": "3.5.1"
  }
 },
 "nbformat": 4,
 "nbformat_minor": 0
}
