{
 "cells": [
  {
   "cell_type": "code",
   "execution_count": null,
   "metadata": {
    "collapsed": false
   },
   "outputs": [],
   "source": [
    "import os\n",
    "import math\n",
    "import nglview\n",
    "from ipywidgets import widgets\n",
    "\n",
    "from moleidoscope.linker import Linker, view_linkers\n",
    "from moleidoscope.geo.coor import Coor\n",
    "from moleidoscope.mirror import Mirror\n",
    "from moleidoscope.line import Line"
   ]
  },
  {
   "cell_type": "markdown",
   "metadata": {},
   "source": [
    "## Display Linkers ##\n",
    "\n",
    "### 1. Displaying a single linker ###"
   ]
  },
  {
   "cell_type": "code",
   "execution_count": null,
   "metadata": {
    "collapsed": false
   },
   "outputs": [],
   "source": [
    "Linker(21).view()                   # Create new linker and view"
   ]
  },
  {
   "cell_type": "markdown",
   "metadata": {},
   "source": [
    "### 2. Displaying multiple linkers ###"
   ]
  },
  {
   "cell_type": "code",
   "execution_count": null,
   "metadata": {
    "collapsed": false
   },
   "outputs": [],
   "source": [
    "link1 = Linker(14)                  # Create Linker 1\n",
    "link2 = Linker(1254)                  # Create Linker 2\n",
    "link2.center(coor=[-8, 2, 0])      # Center Linker 2 so they do not overlap\n",
    "link3 = Linker(123)                  # Create Linker 3\n",
    "link3.center(coor=[7, 2, 0])      # Center Linker 2 so they do not overlap\n",
    "view_linkers(link1, link2, link3)         # View multiple linkers"
   ]
  },
  {
   "cell_type": "markdown",
   "metadata": {},
   "source": [
    "### 3. Displaying selected linker from library ###"
   ]
  },
  {
   "cell_type": "code",
   "execution_count": null,
   "metadata": {
    "collapsed": false,
    "scrolled": true
   },
   "outputs": [],
   "source": [
    "view = nglview.NGLWidget()                                     # Initialize nglview window\n",
    "\n",
    "def set_camera(orthographic):                                  # Select camera type using widgets\n",
    "    if orthographic:\n",
    "        view.camera = 'orthographic'                                  \n",
    "    else:\n",
    "        view.camera = 'perspective'                           \n",
    "\n",
    "def show_linker(idx):\n",
    "    components = view._ngl_component_ids                       # List all components in view\n",
    "    if len(components) > 0:                                    # Remove all components\n",
    "        for i in components:                                   # .\n",
    "            view.remove_component(i)                           # .\n",
    "    link = Linker(int(idx))                                    # Create linker with selected index\n",
    "    link.add_to_view(view)                                     # Add linker to scene\n",
    "    print('Displaying linker: %s (%i atoms)' % (link.name, link.num_of_atoms))\n",
    "\n",
    "widgets.interact(show_linker, idx=(0, 8265))                   # Get linker index from slider\n",
    "widgets.interact(set_camera, orthographic=True)\n",
    "view                                                           # View structures"
   ]
  },
  {
   "cell_type": "markdown",
   "metadata": {},
   "source": [
    "## Translation ##"
   ]
  },
  {
   "cell_type": "code",
   "execution_count": null,
   "metadata": {
    "collapsed": false
   },
   "outputs": [],
   "source": [
    "view = nglview.NGLWidget()                                    # Initialize nglview window\n",
    "link = Linker(33)\n",
    "s = nglview.FileStructure(link.export())                      # Create structure using pdb path\n",
    "view.add_component(s)                                         # Add structure to view\n",
    "\n",
    "def translate_linker(x):\n",
    "    components = view._ngl_component_ids                      # List all components in view\n",
    "    if len(components) > 1:                                   # Remove all components\n",
    "        for i in components:                                  # .\n",
    "            view.remove_component(i)                          # Translate linker \n",
    "    link.translate([-x, 0, 0])                                # Export linker and return path\n",
    "    s = nglview.FileStructure(link.export(file_name='view'))  # Create structure using pdb path\n",
    "    view.add_component(s)\n",
    "    print('Translating linker in x direction by %i Angstroms' % x)\n",
    "    \n",
    "widgets.interact(translate_linker, x=(-20., 20., 1))          # Get linker index from slider\n",
    "view                                                          # View structures"
   ]
  },
  {
   "cell_type": "markdown",
   "metadata": {},
   "source": [
    "## Reflection in common planes ##"
   ]
  },
  {
   "cell_type": "code",
   "execution_count": null,
   "metadata": {
    "collapsed": false
   },
   "outputs": [],
   "source": [
    "from IPython.display import display\n",
    "button1 = widgets.Button(description='xy plane')\n",
    "button2 = widgets.Button(description='xz plane')\n",
    "button3 = widgets.Button(description='yz plane')\n",
    "display(button1, button2, button3)\n",
    "\n",
    "view = nglview.NGLWidget()                                    # Initialize nglview window\n",
    "\n",
    "\n",
    "link = Linker(33)                                             # Create a new linker from library\n",
    "link.center(coor=[5, 5, 5])                                   # Center the linker to [5, 5, 5]\n",
    "\n",
    "link2 = link.reflect('xy', translate=None)                    # Reflect along XY plane\n",
    "link3 = link.reflect('xz', translate=None)                    # Reflect along XZ plane\n",
    "link4 = link.reflect('yz', translate=None)                    # Reflect along YZ plane\n",
    "\n",
    "link.add_to_view(view)\n",
    "Line.xyz(size=20).add_to_view(view)                                        # xyz axis\n",
    "Mirror('xy', size=10).to_linker(atom_type='N').add_to_view(view)           # XY plane -> blue\n",
    "Mirror('yz', size=10).to_linker(atom_type='O').add_to_view(view)           # YZ plane -> red\n",
    "Mirror('xz', size=10).to_linker(atom_type='C').add_to_view(view)           # XZ plane -> gray\n",
    "\n",
    "def reflect_xy(plane):\n",
    "    link2 = link.reflect('xy')\n",
    "    link2.add_to_view(view)\n",
    "\n",
    "def reflect_xz(plane):\n",
    "    link2 = link.reflect('xz')\n",
    "    link2.add_to_view(view)\n",
    "    \n",
    "def reflect_yz(plane):\n",
    "    link2 = link.reflect('yz')\n",
    "    link2.add_to_view(view)\n",
    "\n",
    "button1.on_click(reflect_xy)\n",
    "button2.on_click(reflect_xz)\n",
    "button3.on_click(reflect_yz)\n",
    "view"
   ]
  },
  {
   "cell_type": "markdown",
   "metadata": {},
   "source": [
    "## Reflection in arbitrary planes"
   ]
  },
  {
   "cell_type": "code",
   "execution_count": null,
   "metadata": {
    "collapsed": false
   },
   "outputs": [],
   "source": [
    "link = Linker(142)\n",
    "\n",
    "# Define a plane in 3D space for reflection\n",
    "p1 = [1, 10, 6]\n",
    "p2 = [10, 4, -9]\n",
    "p3 = [-0.1, 4, 5]\n",
    "mir = Mirror(p1, p2, p3, size=0.9)                                # Create mirror using 3 points\n",
    "\n",
    "link.center(mirror=[mir, 0.06])                                 # Center the linker according to mirror\n",
    "\n",
    "link2 = link.reflect(mir)\n",
    "view_linkers(link, link2, mir.to_linker(atom_type='N'))"
   ]
  },
  {
   "cell_type": "markdown",
   "metadata": {},
   "source": [
    "## Rotation"
   ]
  },
  {
   "cell_type": "code",
   "execution_count": null,
   "metadata": {
    "collapsed": false
   },
   "outputs": [],
   "source": [
    "# ROTATION -----------------------------------------------------------------------------------\n",
    "view = nglview.NGLWidget()                                  # Initialize nglview window\n",
    "\n",
    "y_axis = Line([0, -7, 0], [0, 6, 0]).to_linker()            # Create y axis line\n",
    "y_axis.add_to_view(view)                                    # Add y axis line to scene\n",
    "\n",
    "link = Linker(34)                                           # Create new linker\n",
    "link.center(coor=[5,0,0])                                   # Center linker to [5, 0, 0]\n",
    "link.add_to_view(view)                                      # Add linker to scene\n",
    "\n",
    "def rotate_linker(d):                                       # Rotate linker according to slider value\n",
    "    components = view._ngl_component_ids                    # List all components in view\n",
    "    if len(components) > 2:                                 # Remove if more then two objects in scene\n",
    "        view.remove_component(components[-1])               # .\n",
    "    deg = math.radians(d)                                   # Convert degree to radians\n",
    "    rotation_info = [deg, [0, 0, 0], [0, 1, 0]]             # Rotation info: [radians, p1, p2] \n",
    "    link2 = link.rotate(rotation_info)                      # Rotate linker around the line <p1-----p2>\n",
    "    link2.add_to_view(view)                                 # Add linker to scene\n",
    "    print('Rotating %s around y axis for %i degrees' % (link2.name, d))\n",
    "\n",
    "widgets.interact(rotate_linker, d=(0, 360, 90))             # Get rotation degrees from slider\n",
    "view"
   ]
  },
  {
   "cell_type": "markdown",
   "metadata": {},
   "source": [
    "## Rotoreflection (Improper Rotation)"
   ]
  },
  {
   "cell_type": "code",
   "execution_count": null,
   "metadata": {
    "collapsed": false
   },
   "outputs": [],
   "source": [
    "from IPython.display import display\n",
    "button1 = widgets.Button(description='Rotate around y axis')\n",
    "button2 = widgets.Button(description='Reflect xz plane')\n",
    "display(button1, button2)\n",
    "\n",
    "# ROTOREFLECTION (Improper Rotation) ---------------------------------------------\n",
    "view = nglview.NGLWidget()                                  # Initialize nglview window\n",
    "\n",
    "z_axis = Line([0, -7, 0], [0, 6, 0]).to_linker()            # Create z axis line\n",
    "z_axis.add_to_view(view)                                    # Add z axis line to scene\n",
    "\n",
    "link = Linker(17)\n",
    "link.center(coor=[5, 0, 5])\n",
    "link.add_to_view(view)\n",
    "\n",
    "mir = Mirror('xz')\n",
    "plane = mir.to_linker()\n",
    "plane.translate([-5, -0, -5])\n",
    "plane.add_to_view(view)\n",
    "link2 = link.rotate(rotation_info)\n",
    "\n",
    "def rotate(d):\n",
    "    rotation_info = [math.pi, [0, 0, 0], [0, 1, 0]]\n",
    "    link2 = link.rotate(rotation_info)\n",
    "    link2.add_to_view(view)\n",
    "    \n",
    "def reflect(p):\n",
    "    components = view._ngl_component_ids\n",
    "    #view.remove_component(components[-1])\n",
    "    link3 = link2.reflect('xz')\n",
    "    link3.add_to_view(view)\n",
    "\n",
    "button1.on_click(rotate)\n",
    "button2.on_click(reflect)\n",
    "view"
   ]
  },
  {
   "cell_type": "code",
   "execution_count": null,
   "metadata": {
    "collapsed": true
   },
   "outputs": [],
   "source": [
    "# Additional Methods"
   ]
  },
  {
   "cell_type": "code",
   "execution_count": null,
   "metadata": {
    "collapsed": true
   },
   "outputs": [],
   "source": [
    "# ROTOREFLECTION (Improper Rotation) ---------------------------------------------\n",
    "view = nglview.NGLWidget()                                  # Initialize nglview window\n",
    "\n",
    "z_axis = Line([0, -7, 0], [0, 6, 0]).to_linker()            # Create z axis line\n",
    "z_axis.add_to_view(view)                                    # Add z axis line to scene\n",
    "\n",
    "link = Linker(17)\n",
    "link.center(coor=[5, 0, 5])\n",
    "link.add_to_view(view)\n",
    "\n",
    "# Determine rotation -> [angle, p1, p2] where p1----p2 is the rotation axis\n",
    "rotation_info = [math.pi, [0, 0, 0], [0, 1, 0]]\n",
    "# Determine reflection plane as 'xy\n",
    "\n",
    "mir = Mirror('xz')\n",
    "plane = mir.to_linker()\n",
    "plane.translate([0, 5, 0])\n",
    "plane.add_to_view(view)\n",
    "link2 = link.rotoreflect(rotation_info, mir, translate=0)\n",
    "link2.add_to_view(view)\n",
    "\n",
    "view"
   ]
  },
  {
   "cell_type": "code",
   "execution_count": null,
   "metadata": {
    "collapsed": false
   },
   "outputs": [],
   "source": [
    "# Adding linker to scene using NGLWidget\n",
    "view = nglview.NGLWidget()\n",
    "linker_path = Linker(12).export()\n",
    "s = nglview.FileStructure(linker_path)\n",
    "view.add_component(s)\n",
    "view"
   ]
  },
  {
   "cell_type": "code",
   "execution_count": null,
   "metadata": {
    "collapsed": false
   },
   "outputs": [],
   "source": [
    "# Refltecion in common planes\n",
    "link = Linker(33)                                             # Create a new linker from library\n",
    "link.center(coor=[5, 5, 5])                                   # Center the linker to [5, 5, 5]\n",
    "\n",
    "link2 = link.reflect('xy', translate=None)                    # Reflect along XY plane\n",
    "link3 = link.reflect('xz', translate=None)                    # Reflect along XZ plane\n",
    "link4 = link.reflect('yz', translate=None)                    # Reflect along YZ plane\n",
    "\n",
    "view_linkers(link, link2, link3, link4,\n",
    "             Line.xyz(size=20),                                # xyz axis\n",
    "             Mirror('xy', size=10).to_linker(atom_type='N'),   # XY plane -> blue\n",
    "             Mirror('yz', size=10).to_linker(atom_type='O'),   # YZ plane -> red\n",
    "             Mirror('xz', size=10).to_linker(atom_type='C'))   # XZ plane -> gray"
   ]
  },
  {
   "cell_type": "code",
   "execution_count": null,
   "metadata": {
    "collapsed": false
   },
   "outputs": [],
   "source": []
  },
  {
   "cell_type": "code",
   "execution_count": null,
   "metadata": {
    "collapsed": true
   },
   "outputs": [],
   "source": []
  },
  {
   "cell_type": "code",
   "execution_count": null,
   "metadata": {
    "collapsed": false
   },
   "outputs": [],
   "source": []
  },
  {
   "cell_type": "code",
   "execution_count": null,
   "metadata": {
    "collapsed": false
   },
   "outputs": [],
   "source": []
  },
  {
   "cell_type": "code",
   "execution_count": null,
   "metadata": {
    "collapsed": true
   },
   "outputs": [],
   "source": []
  }
 ],
 "metadata": {
  "kernelspec": {
   "display_name": "Python 3",
   "language": "python",
   "name": "python3"
  },
  "language_info": {
   "codemirror_mode": {
    "name": "ipython",
    "version": 3
   },
   "file_extension": ".py",
   "mimetype": "text/x-python",
   "name": "python",
   "nbconvert_exporter": "python",
   "pygments_lexer": "ipython3",
   "version": "3.5.1"
  }
 },
 "nbformat": 4,
 "nbformat_minor": 0
}
