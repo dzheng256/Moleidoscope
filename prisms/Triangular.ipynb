{
 "cells": [
  {
   "cell_type": "code",
   "execution_count": null,
   "metadata": {
    "collapsed": true
   },
   "outputs": [],
   "source": [
    "import os\n",
    "import math\n",
    "os.chdir('../')\n",
    "from moleidoscope.linker import Linker\n",
    "from moleidoscope.mirror import Mirror\n",
    "from moleidoscope.line import Line\n",
    "from moleidoscope.geo.coor import Coor"
   ]
  },
  {
   "cell_type": "code",
   "execution_count": null,
   "metadata": {
    "collapsed": false
   },
   "outputs": [],
   "source": [
    "# Create wedge (trigonal prism) geometry with three planes\n",
    "# defined by nine total points\n",
    "p1 = [-3**0.5/3, -1, -1]\n",
    "p2 = [-3**0.5/3, -1, 1]\n",
    "p3 = [2*3**0.5/3, 0, 1]\n",
    "m1 = Mirror(p1, p2, p3, size=8)\n",
    "\n",
    "p1 = [2*3**0.5/3, 0, 1]\n",
    "p2 = [-3**0.5/3, 1, 1]\n",
    "p3 = [-3**0.5/3, 1, -1]\n",
    "m2 = Mirror(p1, p2, p3, size=8)\n",
    "\n",
    "p1 = [-3**0.5/3, 1, 1]\n",
    "p2 = [-3**0.5/3, -1, 1]\n",
    "p3 = [-3**0.5/3, -1, -1]\n",
    "m3 = Mirror(p1, p2, p3, size=8)\n",
    "\n",
    "# Convert mirror planes to linkers\n",
    "l1 = m1.to_linker()\n",
    "l2 = m2.to_linker()\n",
    "l3 = m3.to_linker()\n",
    "\n",
    "# Add xyz axis\n",
    "lxyz = Line.xyz_linker()\n",
    "lxyz.view()\n",
    "\n",
    "# Join all and visualize\n",
    "l = l1.join(l2, l3, lxyz)\n",
    "l.name = 'triangular'\n",
    "l.view()"
   ]
  },
  {
   "cell_type": "code",
   "execution_count": null,
   "metadata": {
    "collapsed": false
   },
   "outputs": [],
   "source": [
    "# Create a new linker and center to origin\n",
    "new_linker = Linker(34)\n",
    "new_linker.center()\n",
    "\n",
    "# Reflect linker for each plane in wedge\n",
    "nl1 = new_linker.reflect(m1, translate=True, amount=0)\n",
    "nl2 = new_linker.reflect(m2, translate=True, amount=0)\n",
    "nl3 = new_linker.reflect(m3, translate=True, amount=0)\n",
    "\n",
    "# Join all new linkers and wedge planes\n",
    "triangular_linker = new_linker.join(nl1, nl2, nl3, l1, l2, l3, lxyz)\n",
    "triangular_linker.name = 'TriangularReflect'\n",
    "triangular_linker.view()"
   ]
  },
  {
   "cell_type": "code",
   "execution_count": null,
   "metadata": {
    "collapsed": false
   },
   "outputs": [],
   "source": []
  },
  {
   "cell_type": "code",
   "execution_count": null,
   "metadata": {
    "collapsed": true
   },
   "outputs": [],
   "source": []
  }
 ],
 "metadata": {
  "kernelspec": {
   "display_name": "Python 3",
   "language": "python",
   "name": "python3"
  },
  "language_info": {
   "codemirror_mode": {
    "name": "ipython",
    "version": 3
   },
   "file_extension": ".py",
   "mimetype": "text/x-python",
   "name": "python",
   "nbconvert_exporter": "python",
   "pygments_lexer": "ipython3",
   "version": "3.5.1"
  }
 },
 "nbformat": 4,
 "nbformat_minor": 0
}
