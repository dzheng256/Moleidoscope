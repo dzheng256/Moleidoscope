{
 "cells": [
  {
   "cell_type": "code",
   "execution_count": 1,
   "metadata": {
    "collapsed": false
   },
   "outputs": [],
   "source": [
    "import os\n",
    "import math\n",
    "os.chdir('../')\n",
    "from moleidoscope.linker import Linker, view_linkers\n",
    "from moleidoscope.mirror import Mirror\n",
    "from moleidoscope.line import Line\n",
    "from moleidoscope.geo.quaternion import Quaternion"
   ]
  },
  {
   "cell_type": "code",
   "execution_count": 5,
   "metadata": {
    "collapsed": false
   },
   "outputs": [],
   "source": [
    "# Create wedge (trigonal prism) geometry with three planes\n",
    "# defined by nine total points\n",
    "p1 = [-3**0.5/3, -1, -1]\n",
    "p2 = [-3**0.5/3, -1, 1]\n",
    "p3 = [2*3**0.5/3, 0, 1]\n",
    "m1 = Mirror(p1, p2, p3, size=7)\n",
    "\n",
    "p1 = [-3**0.5/3, 1, -1]\n",
    "p2 = [-3**0.5/3, 1, 1]\n",
    "p3 = [2*3**0.5/3, 0, 1]\n",
    "m2 = Mirror(p1, p2, p3, size=7)\n",
    "\n",
    "p1 = [-3**0.5/3, -1, -1]\n",
    "p2 = [-3**0.5/3, -1, 1]\n",
    "p3 = [-3**0.5/3, 1, 1]\n",
    "m3 = Mirror(p1, p2, p3, size=7)\n",
    "\n",
    "# Convert mirror planes to linkers\n",
    "l1 = m1.to_linker()\n",
    "l2 = m2.to_linker()\n",
    "l3 = m3.to_linker()\n",
    "\n",
    "# Add xyz axis\n",
    "lxyz = Line.xyz_linker()\n",
    "lxyz.view()\n",
    "\n",
    "# Join all and visualize\n",
    "view_linkers(l1, l2, l3)"
   ]
  },
  {
   "cell_type": "code",
   "execution_count": 6,
   "metadata": {
    "collapsed": false
   },
   "outputs": [],
   "source": [
    "axis = [[1, 0, 0], [0, 0 ,0]]\n",
    "angle = math.pi / 2\n",
    "\n",
    "ml1 = m1.rotate(axis, angle, size=7).to_linker()\n",
    "ml2 = m2.rotate(axis, angle, size=7).to_linker()\n",
    "ml3 = m3.rotate(axis, angle, size=7).to_linker()\n",
    "\n",
    "view_linkers(ml1, ml2, ml3, lxyz, l)"
   ]
  },
  {
   "cell_type": "code",
   "execution_count": null,
   "metadata": {
    "collapsed": true
   },
   "outputs": [],
   "source": []
  },
  {
   "cell_type": "code",
   "execution_count": null,
   "metadata": {
    "collapsed": false
   },
   "outputs": [],
   "source": []
  },
  {
   "cell_type": "code",
   "execution_count": null,
   "metadata": {
    "collapsed": false
   },
   "outputs": [],
   "source": []
  },
  {
   "cell_type": "code",
   "execution_count": null,
   "metadata": {
    "collapsed": false
   },
   "outputs": [],
   "source": []
  },
  {
   "cell_type": "code",
   "execution_count": 3,
   "metadata": {
    "collapsed": true
   },
   "outputs": [],
   "source": []
  },
  {
   "cell_type": "code",
   "execution_count": 4,
   "metadata": {
    "collapsed": false
   },
   "outputs": [],
   "source": []
  },
  {
   "cell_type": "code",
   "execution_count": null,
   "metadata": {
    "collapsed": true
   },
   "outputs": [],
   "source": []
  }
 ],
 "metadata": {
  "kernelspec": {
   "display_name": "Python 3",
   "language": "python",
   "name": "python3"
  },
  "language_info": {
   "codemirror_mode": {
    "name": "ipython",
    "version": 3
   },
   "file_extension": ".py",
   "mimetype": "text/x-python",
   "name": "python",
   "nbconvert_exporter": "python",
   "pygments_lexer": "ipython3",
   "version": "3.5.1"
  }
 },
 "nbformat": 4,
 "nbformat_minor": 0
}
