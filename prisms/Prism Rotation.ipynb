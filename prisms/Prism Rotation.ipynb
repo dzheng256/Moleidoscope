{
 "cells": [
  {
   "cell_type": "code",
   "execution_count": null,
   "metadata": {
    "collapsed": false
   },
   "outputs": [],
   "source": [
    "import os\n",
    "import math\n",
    "os.chdir('../')\n",
    "from moleidoscope.linker import Linker, view_linkers\n",
    "from moleidoscope.mirror import Mirror\n",
    "from moleidoscope.line import Line\n",
    "from moleidoscope.geo.quaternion import Quaternion"
   ]
  },
  {
   "cell_type": "code",
   "execution_count": null,
   "metadata": {
    "collapsed": false
   },
   "outputs": [],
   "source": [
    "# Create wedge (trigonal prism) geometry with three planes\n",
    "# defined by nine total points\n",
    "p1 = [-3**0.5/3, -1, -1]\n",
    "p2 = [-3**0.5/3, -1, 1]\n",
    "p3 = [2*3**0.5/3, 0, 1]\n",
    "pm11 = Mirror(p1, p2, p3, size=7)\n",
    "\n",
    "p1 = [-3**0.5/3, 1, -1]\n",
    "p2 = [-3**0.5/3, 1, 1]\n",
    "p3 = [2*3**0.5/3, 0, 1]\n",
    "pm12 = Mirror(p1, p2, p3, size=7)\n",
    "\n",
    "p1 = [-3**0.5/3, -1, -1]\n",
    "p2 = [-3**0.5/3, -1, 1]\n",
    "p3 = [-3**0.5/3, 1, 1]\n",
    "pm13 = Mirror(p1, p2, p3, size=7)\n",
    "\n",
    "gs = 7 # Grid size for plane visualization\n",
    "\n",
    "# Convert mirror planes to linkers\n",
    "l11 = pm11.to_linker(grid_size=gs)\n",
    "l12 = pm12.to_linker(grid_size=gs)\n",
    "l13 = pm13.to_linker(grid_size=gs)\n",
    "\n",
    "# Add xyz axis\n",
    "lxyz = Line.xyz()\n",
    "lxyz.view()\n",
    "\n",
    "# Join linkers\n",
    "prism1 = l11.join(l12, l13)\n",
    "\n",
    "# Join all and visualize\n",
    "view_linkers(l11, l12, l13, lxyz)"
   ]
  },
  {
   "cell_type": "code",
   "execution_count": null,
   "metadata": {
    "collapsed": false
   },
   "outputs": [],
   "source": [
    "# Create a new linker and center to origin\n",
    "new_linker = Linker(123)\n",
    "new_linker.center()\n",
    "\n",
    "# Reflect linker for each plane in wedge\n",
    "rl11 = new_linker.reflect(pm11)\n",
    "rl12 = new_linker.reflect(pm12)\n",
    "rl13 = new_linker.reflect(pm13)\n",
    "\n",
    "# Join all new linkers and wedge planes\n",
    "view_linkers(new_linker, rl11, rl12, rl13, lxyz, prism1)"
   ]
  },
  {
   "cell_type": "code",
   "execution_count": null,
   "metadata": {
    "collapsed": true
   },
   "outputs": [],
   "source": [
    "# Rotate the prism\n",
    "axis = [[0, 0, 1], [0, 0 ,0]]\n",
    "angle = math.pi\n",
    "\n",
    "# Rotate mirrors\n",
    "pm21 = pm11.rotate(axis, angle, size=1)\n",
    "pm22 = pm12.rotate(axis, angle, size=1)\n",
    "pm23 = pm13.rotate(axis, angle, size=1)\n",
    "\n",
    "# Convert mirrors to linkers\n",
    "l21 = pm21.to_linker(grid_size=gs)\n",
    "l22 = pm22.to_linker(grid_size=gs)\n",
    "l23 = pm23.to_linker(grid_size=gs)\n",
    "\n",
    "# Rotated prism\n",
    "prism2 = l21.join(l22, l23)\n",
    "\n",
    "# Rotated prism + not rotated linkers\n",
    "view_linkers(prism1, prism2, new_linker, rl11, rl12, rl13, lxyz)"
   ]
  },
  {
   "cell_type": "code",
   "execution_count": null,
   "metadata": {
    "collapsed": false
   },
   "outputs": [],
   "source": [
    "# Reflect linker for each plane in prism2\n",
    "rl21 = new_linker.reflect(pm21, translate=True, amount=0)\n",
    "rl22 = new_linker.reflect(pm22, translate=True, amount=0)\n",
    "rl23 = new_linker.reflect(pm23, translate=True, amount=0)\n",
    "\n",
    "# Join all new linkers and wedge planes\n",
    "view_linkers(prism1, prism2, new_linker, rl11, rl12, rl13, rl21, rl22, rl23)"
   ]
  },
  {
   "cell_type": "code",
   "execution_count": null,
   "metadata": {
    "collapsed": false
   },
   "outputs": [],
   "source": [
    "view_linkers(new_linker, rl11, rl12, rl13, rl21, rl22, rl23)"
   ]
  },
  {
   "cell_type": "code",
   "execution_count": null,
   "metadata": {
    "collapsed": false
   },
   "outputs": [],
   "source": []
  },
  {
   "cell_type": "code",
   "execution_count": null,
   "metadata": {
    "collapsed": true
   },
   "outputs": [],
   "source": []
  },
  {
   "cell_type": "code",
   "execution_count": null,
   "metadata": {
    "collapsed": false
   },
   "outputs": [],
   "source": []
  },
  {
   "cell_type": "code",
   "execution_count": null,
   "metadata": {
    "collapsed": true
   },
   "outputs": [],
   "source": []
  }
 ],
 "metadata": {
  "kernelspec": {
   "display_name": "Python 3",
   "language": "python",
   "name": "python3"
  },
  "language_info": {
   "codemirror_mode": {
    "name": "ipython",
    "version": 3
   },
   "file_extension": ".py",
   "mimetype": "text/x-python",
   "name": "python",
   "nbconvert_exporter": "python",
   "pygments_lexer": "ipython3",
   "version": "3.5.1"
  }
 },
 "nbformat": 4,
 "nbformat_minor": 0
}
