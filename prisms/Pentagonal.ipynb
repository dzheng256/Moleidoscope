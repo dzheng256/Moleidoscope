{
 "cells": [
  {
   "cell_type": "code",
   "execution_count": null,
   "metadata": {
    "collapsed": false
   },
   "outputs": [],
   "source": [
    "import os\n",
    "import math\n",
    "os.chdir('../')\n",
    "from moleidoscope.linker import Linker\n",
    "from moleidoscope.mirror import Mirror\n",
    "from moleidoscope.line import Line"
   ]
  },
  {
   "cell_type": "code",
   "execution_count": null,
   "metadata": {
    "collapsed": false
   },
   "outputs": [],
   "source": [
    "plane_size = 10\n",
    "\n",
    "p1 = [-0.951, 0.309, -1]\n",
    "p2 = [-0.951, 0.309, 1]\n",
    "p3 = [0, 1, 1]\n",
    "m1 = Mirror(p1, p2, p3, size=plane_size)\n",
    "\n",
    "p1 = [0.951, 0.309, -1]\n",
    "p2 = [0.951, 0.309, 1]\n",
    "p3 = [0, 1, 1]\n",
    "m2 = Mirror(p1, p2, p3, size=plane_size)\n",
    "\n",
    "p1 = [-0.951, 0.309, -1]\n",
    "p2 = [-0.951, 0.309, 1]\n",
    "p3 = [-0.588, -0.809, 1]\n",
    "m3 = Mirror(p1, p2, p3, size=plane_size)\n",
    "\n",
    "p1 = [0.588, -0.809, -1]\n",
    "p2 = [0.588, -0.809, 1]\n",
    "p3 = [-0.588, -0.809, 1]\n",
    "m4 = Mirror(p1, p2, p3, size=plane_size)\n",
    "\n",
    "p1 = [0.588, -0.809, -1]\n",
    "p2 = [0.588, -0.809, 1]\n",
    "p3 = [0.951, 0.309, 1]\n",
    "m5 = Mirror(p1, p2, p3, size=plane_size)\n",
    "\n",
    "l1 = m1.to_linker()\n",
    "l2 = m2.to_linker()\n",
    "l3 = m3.to_linker()\n",
    "l4 = m4.to_linker()\n",
    "l5 = m5.to_linker()\n",
    "\n",
    "lxyz = Line.xyz_linker()\n",
    "lxyz.view()\n",
    "\n",
    "l = l1.join(l2, l3, l4, l5, lxyz)\n",
    "l.name = 'pentahedron'\n",
    "l.view()"
   ]
  },
  {
   "cell_type": "code",
   "execution_count": null,
   "metadata": {
    "collapsed": false
   },
   "outputs": [],
   "source": [
    "# Create a new linker and center to origin\n",
    "new_linker = Linker(7)\n",
    "new_linker.center()\n",
    "\n",
    "# Reflect linker for each plane in wedge\n",
    "nl1 = new_linker.reflect(m1, translate=True, amount=0)\n",
    "nl2 = new_linker.reflect(m2, translate=True, amount=0)\n",
    "nl3 = new_linker.reflect(m3, translate=True, amount=0)\n",
    "nl4 = new_linker.reflect(m4, translate=True, amount=0)\n",
    "nl5 = new_linker.reflect(m5, translate=True, amount=0)\n",
    "\n",
    "# Join all new linkers and wedge planes\n",
    "cubic_linker = new_linker.join(nl1, nl2, nl3, nl4, nl5)\n",
    "cubic_linker.name = 'PentagonalReflect'\n",
    "cubic_linker.view()"
   ]
  },
  {
   "cell_type": "code",
   "execution_count": null,
   "metadata": {
    "collapsed": true
   },
   "outputs": [],
   "source": []
  },
  {
   "cell_type": "code",
   "execution_count": null,
   "metadata": {
    "collapsed": true
   },
   "outputs": [],
   "source": []
  }
 ],
 "metadata": {
  "kernelspec": {
   "display_name": "Python 3",
   "language": "python",
   "name": "python3"
  },
  "language_info": {
   "codemirror_mode": {
    "name": "ipython",
    "version": 3
   },
   "file_extension": ".py",
   "mimetype": "text/x-python",
   "name": "python",
   "nbconvert_exporter": "python",
   "pygments_lexer": "ipython3",
   "version": "3.5.1"
  }
 },
 "nbformat": 4,
 "nbformat_minor": 0
}
