{
 "cells": [
  {
   "cell_type": "code",
   "execution_count": 1,
   "metadata": {
    "collapsed": true
   },
   "outputs": [],
   "source": [
    "import os\n",
    "import math\n",
    "os.chdir('../')\n",
    "from moleidoscope.linker import Linker\n",
    "from moleidoscope.mirror import Mirror\n",
    "from moleidoscope.line import Line"
   ]
  },
  {
   "cell_type": "code",
   "execution_count": 2,
   "metadata": {
    "collapsed": true
   },
   "outputs": [],
   "source": [
    "p1 = [0.5*3**0.5, 0.5, -1]\n",
    "p2 = [0.5*3**0.5, 0.5, 1]\n",
    "p3 = [0, 1, 1]\n",
    "m1 = Mirror(p1, p2, p3, size=7)\n",
    "\n",
    "p1 = [-0.5*3**0.5, 0.5, -1]\n",
    "p2 = [-0.5*3**0.5, 0.5, 1]\n",
    "p3 = [0, 1, 1]\n",
    "m2 = Mirror(p1, p2, p3, size=7)\n",
    "\n",
    "p1 = [-0.5*3**0.5, 0.5, -1]\n",
    "p2 = [-0.5*3**0.5, 0.5, 1]\n",
    "p3 = [-0.5*3**0.5, -0.5, 1]\n",
    "m3 = Mirror(p1, p2, p3, size=7)\n",
    "\n",
    "p1 = [0, -1, -1]\n",
    "p2 = [0, -1, 1]\n",
    "p3 = [-0.5*3**0.5, -0.5, 1]\n",
    "m4 = Mirror(p1, p2, p3, size=7)\n",
    "\n",
    "p1 = [0, -1, -1]\n",
    "p2 = [0, -1, 1]\n",
    "p3 = [0.5*3**0.5, -0.5, 1]\n",
    "m5 = Mirror(p1, p2, p3, size=7)\n",
    "\n",
    "p1 = [0.5*3**0.5, 0.5, -1]\n",
    "p2 = [0.5*3**0.5, 0.5, 1]\n",
    "p3 = [0.5*3**0.5, -0.5, 1]\n",
    "m6 = Mirror(p1, p2, p3, size=7)\n",
    "\n",
    "l1 = m1.to_linker(Linker())\n",
    "l2 = m2.to_linker(Linker())\n",
    "l3 = m3.to_linker(Linker())\n",
    "l4 = m4.to_linker(Linker())\n",
    "l5 = m5.to_linker(Linker())\n",
    "l6 = m6.to_linker(Linker())\n",
    "\n",
    "lxyz = Line.xyz_linker()\n",
    "lxyz.view()\n",
    "\n",
    "l = l1.join(l2, l3, l4, l5, l6, lxyz)\n",
    "l.name = 'hexahedron'\n",
    "l.view()"
   ]
  },
  {
   "cell_type": "code",
   "execution_count": null,
   "metadata": {
    "collapsed": true
   },
   "outputs": [],
   "source": []
  }
 ],
 "metadata": {
  "kernelspec": {
   "display_name": "Python 3",
   "language": "python",
   "name": "python3"
  },
  "language_info": {
   "codemirror_mode": {
    "name": "ipython",
    "version": 3
   },
   "file_extension": ".py",
   "mimetype": "text/x-python",
   "name": "python",
   "nbconvert_exporter": "python",
   "pygments_lexer": "ipython3",
   "version": "3.5.1"
  }
 },
 "nbformat": 4,
 "nbformat_minor": 0
}
