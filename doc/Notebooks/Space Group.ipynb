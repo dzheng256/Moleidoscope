{
 "cells": [
  {
   "cell_type": "code",
   "execution_count": 1,
   "metadata": {
    "collapsed": true
   },
   "outputs": [],
   "source": [
    "import os, math                                    \n",
    "from ipywidgets import widgets                                 # Import widgets\n",
    "\n",
    "import nglview                                                 # Import nglview library for visualization\n",
    "import ase.spacegroup as sg\n",
    "from ase.io import read\n",
    "from ase.io import write\n",
    "from ase import Atom\n",
    "\n",
    "from moleidoscope.linker import Linker, view_linkers           # Import moleidoscope functions\n",
    "from moleidoscope.geo.coor import Coor\n",
    "from moleidoscope.mirror import Mirror\n",
    "from moleidoscope.line import Line"
   ]
  },
  {
   "cell_type": "code",
   "execution_count": 2,
   "metadata": {
    "collapsed": false
   },
   "outputs": [],
   "source": [
    "link1 = Linker(132)\n",
    "link1.view()"
   ]
  },
  {
   "cell_type": "code",
   "execution_count": 3,
   "metadata": {
    "collapsed": false
   },
   "outputs": [],
   "source": [
    "link1_atoms = read(link1.export())"
   ]
  },
  {
   "cell_type": "code",
   "execution_count": 28,
   "metadata": {
    "collapsed": false
   },
   "outputs": [],
   "source": [
    "a = 8\n",
    "a= 2.4700\n",
    "b=2.4700\n",
    "c=6.7900\n",
    "\n",
    "al = sg.crystal('C', [(0,0,0)], spacegroup=186, cellpar=[a, b, c, 90, 90, 120])\n",
    "\n",
    "# a = 30\n",
    "# link1_sg = sg.crystal(link1_atoms, spacegroup=225, cellpar=[a, a, a, 90, 90, 90])\n",
    "\n",
    "# write(os.path.join('linkers', 'link1_sg.xyz'), link1_sg, format='xyz')"
   ]
  },
  {
   "cell_type": "code",
   "execution_count": 29,
   "metadata": {
    "collapsed": true
   },
   "outputs": [],
   "source": [
    "link2 = Linker()\n",
    "link2.atom_coors = al.get_positions()\n",
    "link2.atom_names = al.get_chemical_symbols()\n",
    "link2.view()"
   ]
  },
  {
   "cell_type": "code",
   "execution_count": 20,
   "metadata": {
    "collapsed": true
   },
   "outputs": [],
   "source": [
    "link2 = Linker()\n",
    "link2.atom_coors = link1_sg.get_positions()\n",
    "link2.atom_names = link1_sg.get_chemical_symbols()\n",
    "link2.view()"
   ]
  },
  {
   "cell_type": "code",
   "execution_count": 25,
   "metadata": {
    "collapsed": false
   },
   "outputs": [
    {
     "data": {
      "text/plain": [
       "array([[  0.00000000e+00,   0.00000000e+00,   0.00000000e+00],\n",
       "       [  4.89858720e-16,   4.00000000e+00,   4.00000000e+00],\n",
       "       [  4.00000000e+00,   2.44929360e-16,   4.00000000e+00],\n",
       "       [  4.00000000e+00,   4.00000000e+00,   0.00000000e+00]])"
      ]
     },
     "execution_count": 25,
     "metadata": {},
     "output_type": "execute_result"
    }
   ],
   "source": [
    "link2.atom_coors"
   ]
  },
  {
   "cell_type": "code",
   "execution_count": null,
   "metadata": {
    "collapsed": true
   },
   "outputs": [],
   "source": []
  }
 ],
 "metadata": {
  "kernelspec": {
   "display_name": "Python 3",
   "language": "python",
   "name": "python3"
  },
  "language_info": {
   "codemirror_mode": {
    "name": "ipython",
    "version": 3
   },
   "file_extension": ".py",
   "mimetype": "text/x-python",
   "name": "python",
   "nbconvert_exporter": "python",
   "pygments_lexer": "ipython3",
   "version": "3.5.2"
  }
 },
 "nbformat": 4,
 "nbformat_minor": 0
}
