{
 "cells": [
  {
   "cell_type": "code",
   "execution_count": 1,
   "metadata": {
    "collapsed": false
   },
   "outputs": [
    {
     "name": "stderr",
     "output_type": "stream",
     "text": [
      "/home/kutay/anaconda3/lib/python3.5/site-packages/MDAnalysis/__init__.py:190: UserWarning: #####\n",
      "MDAnalysis on python 3 is highly experimental!\n",
      "It is mostly non functional and dramatically untested.\n",
      "Use at your own risks!!!\n",
      "\n",
      "  ''')\n",
      "/home/kutay/anaconda3/lib/python3.5/site-packages/jupyter_core/application.py:106: DeprecationWarning: metadata {'config': True} was set from the constructor.  Metadata should be set using the .tag() method, e.g., Int().tag(key1='value1', key2='value2')\n",
      "  help=\"\"\"Generate default config file.\"\"\"\n",
      "/home/kutay/anaconda3/lib/python3.5/site-packages/notebook/nbextensions.py:286: DeprecationWarning: metadata {'config': True} was set from the constructor.  Metadata should be set using the .tag() method, e.g., Int().tag(key1='value1', key2='value2')\n",
      "  overwrite = Bool(False, config=True, help=\"Force overwrite of existing files\")\n",
      "/home/kutay/anaconda3/lib/python3.5/site-packages/notebook/services/config/manager.py:15: DeprecationWarning: metadata {'config': True} was set from the constructor.  Metadata should be set using the .tag() method, e.g., Int().tag(key1='value1', key2='value2')\n",
      "  config_dir = Unicode(config=True)\n",
      "/home/kutay/anaconda3/lib/python3.5/site-packages/notebook/services/config/manager.py:16: DeprecationWarning: ConfigManager._config_dir_default is deprecated: use @default decorator instead.\n",
      "  def _config_dir_default(self):\n"
     ]
    }
   ],
   "source": [
    "import os, math\n",
    "import warnings\n",
    "\n",
    "from MDAnalysis import Universe, Writer\n",
    "import nglview as nv\n",
    "import mdtraj\n",
    "\n",
    "from moleidoscope.linker import Linker, view_linkers\n",
    "from moleidoscope.mirror import Mirror\n",
    "from moleidoscope.line import Line\n",
    "from moleidoscope.geo.quaternion import Quaternion\n",
    "\n",
    "warnings.filterwarnings('ignore') # MDAnalysis creates a lot of warnings"
   ]
  },
  {
   "cell_type": "markdown",
   "metadata": {},
   "source": [
    "## Animation using trajectories ##\n",
    "### Creating triangular prism ###"
   ]
  },
  {
   "cell_type": "code",
   "execution_count": 2,
   "metadata": {
    "collapsed": false
   },
   "outputs": [],
   "source": [
    "# Create wedge (trigonal prism) geometry with three planes\n",
    "# defined by nine total points\n",
    "p1 = [-3**0.5/3, -1, -1]\n",
    "p2 = [-3**0.5/3, -1, 1]\n",
    "p3 = [2*3**0.5/3, 0, 1]\n",
    "mir1 = Mirror(p1, p2, p3, size=7)\n",
    "\n",
    "p1 = [-3**0.5/3, 1, -1]\n",
    "p2 = [-3**0.5/3, 1, 1]\n",
    "p3 = [2*3**0.5/3, 0, 1]\n",
    "mir2 = Mirror(p1, p2, p3, size=7)\n",
    "\n",
    "p1 = [-3**0.5/3, -1, -1]\n",
    "p2 = [-3**0.5/3, -1, 1]\n",
    "p3 = [-3**0.5/3, 1, 1]\n",
    "mir3 = Mirror(p1, p2, p3, size=7)\n",
    "\n",
    "gs = 7 # Grid size for plane visualization\n",
    "\n",
    "# Convert mirror planes to linkers\n",
    "plane1 = mir1.to_linker(grid_size=gs)\n",
    "plane2 = mir2.to_linker(grid_size=gs)\n",
    "plane3 = mir3.to_linker(grid_size=gs)\n",
    "\n",
    "# Add xyz axis\n",
    "lxyz = Line.xyz()\n",
    "\n",
    "# Join linkers\n",
    "prism = plane1.join(plane2, plane3)\n",
    "\n",
    "# Join all and visualize\n",
    "view_linkers(prism, lxyz)"
   ]
  },
  {
   "cell_type": "markdown",
   "metadata": {},
   "source": [
    "### Creating the animation ###"
   ]
  },
  {
   "cell_type": "code",
   "execution_count": 3,
   "metadata": {
    "collapsed": false
   },
   "outputs": [],
   "source": [
    "# Create a linker and rotate it multiple times\n",
    "link = Linker(123)\n",
    "link.center(coor=[0, 0, 0])\n",
    "\n",
    "rpt = 5\n",
    "frames = 0\n",
    "all_linkers = link.join(plane1)\n",
    "link2 = link.reflect(mir1)\n",
    "all_linkers = plane1.join(link2)\n",
    "\n",
    "all_linkers = all_linkers.join(plane2)\n",
    "link3 = link.reflect(mir2)\n",
    "all_linkers = all_linkers.join(link3)\n",
    "\n",
    "all_linkers = all_linkers.join(plane3)\n",
    "link4 = link.reflect(mir3)\n",
    "all_linkers = all_linkers.join(link4)\n",
    "\n",
    "\n",
    "# Determine rotation -> [angle, p1, p2] where p1----p2 is the rotation axis\n",
    "rotation_info = [math.pi/48, [0, 0, 0], [0, 0, 1]]\n",
    "rotation_info2 = [math.pi/48, [0, 0, 0], [0, 0, 1]]\n",
    "y_axis = Line([0, -7, 0], [0, 6, 0]).to_linker()            # Create y axis line\n",
    "\n",
    "linker_paths = []\n",
    "# Rotate linker and export\n",
    "for i in range(200):\n",
    "    all_linkers = all_linkers.rotate(rotation_info)\n",
    "    link = link.rotate(rotation_info2)\n",
    "    linker1 = all_linkers.join(link)\n",
    "    linker1.name = 'prism-%i' % i\n",
    "    linker_paths.append(linker1.export())\n",
    "    \n",
    "# Create a trajectory from file path list and save as XTC\n",
    "T = mdtraj.load(linker_paths)\n",
    "traj_path = os.path.join('linkers', 'rot_traj.xtc')\n",
    "T.save_xtc(traj_path, force_overwrite=True)\n",
    "\n",
    "# Create a MDAnalysis Universe and show animation\n",
    "u = Universe(linker_paths[0], traj_path)\n",
    "nv.show_mdanalysis(u)"
   ]
  },
  {
   "cell_type": "code",
   "execution_count": null,
   "metadata": {
    "collapsed": true
   },
   "outputs": [],
   "source": []
  },
  {
   "cell_type": "code",
   "execution_count": null,
   "metadata": {
    "collapsed": true
   },
   "outputs": [],
   "source": [
    "def repeat_scene(linker, count, name='animation', start=0):\n",
    "    linkers = []\n",
    "    for i in range(count):\n",
    "        linker.name = '%s-%i' % (name, i + start)\n",
    "        linkers.append(linker.export())\n",
    "    return linkers"
   ]
  },
  {
   "cell_type": "code",
   "execution_count": null,
   "metadata": {
    "collapsed": false
   },
   "outputs": [],
   "source": [
    "# Create a linker and rotate it multiple times\n",
    "link = Linker(123)\n",
    "link.center(coor=[0, 0, 0])\n",
    "\n",
    "rpt = 5\n",
    "frames = 0\n",
    "# Add first linker\n",
    "linker_paths = repeat_scene(link, 5)\n",
    "frames += rpt\n",
    "\n",
    "# Add plane 1\n",
    "all_linkers = link.join(plane1)\n",
    "linker_paths += repeat_scene(all_linkers, rpt, start=frames)\n",
    "frames += rpt\n",
    "\n",
    "# Reflect linker\n",
    "link2 = link.reflect(mir1)\n",
    "all_linkers = all_linkers.join(link2)\n",
    "linker_paths += repeat_scene(all_linkers, rpt, start=frames)\n",
    "frames += rpt\n",
    "\n",
    "# Add plane 2\n",
    "all_linkers = all_linkers.join(plane2)\n",
    "linker_paths += repeat_scene(all_linkers, rpt, start=frames)\n",
    "frames += rpt\n",
    "\n",
    "# Reflect linker\n",
    "link3 = link.reflect(mir2)\n",
    "all_linkers = all_linkers.join(link3)\n",
    "linker_paths += repeat_scene(all_linkers, rpt, start=frames)\n",
    "frames += rpt\n",
    "\n",
    "# Add plane 3\n",
    "all_linkers = all_linkers.join(plane3)\n",
    "linker_paths += repeat_scene(all_linkers, rpt, start=frames)\n",
    "frames += rpt\n",
    "\n",
    "# Reflect linker\n",
    "link4 = link.reflect(mir3)\n",
    "all_linkers = all_linkers.join(link4)\n",
    "linker_paths += repeat_scene(all_linkers, rpt)\n",
    "frames += rpt\n",
    "\n",
    "# Determine rotation -> [angle, p1, p2] where p1----p2 is the rotation axis\n",
    "rotation_info = [math.pi/12, [0, 0, 0], [0, 1, 0]]\n",
    "y_axis = Line([0, -7, 0], [0, 6, 0]).to_linker()            # Create y axis line\n",
    "\n",
    "# linker_paths = []\n",
    "# # Rotate linker and export\n",
    "# for i in range(240):\n",
    "#     link = link.rotate(rotation_info)\n",
    "#     linker1 = link.join(y_axis)\n",
    "#     linker1.name = 'rotation-%i' % i\n",
    "#     linker_paths.append(linker1.export())\n"
   ]
  },
  {
   "cell_type": "code",
   "execution_count": null,
   "metadata": {
    "collapsed": false
   },
   "outputs": [],
   "source": [
    "# Create a trajectory from file path list and save as XTC\n",
    "T = mdtraj.load(linker_paths)\n",
    "traj_path = os.path.join('linkers', 'rot_traj.xtc')\n",
    "T.save_xtc(traj_path, force_overwrite=True)\n",
    "\n",
    "# Create a MDAnalysis Universe and show animation\n",
    "u = Universe(linker_paths[0], traj_path)\n",
    "nv.show_mdanalysis(u)"
   ]
  },
  {
   "cell_type": "code",
   "execution_count": null,
   "metadata": {
    "collapsed": false
   },
   "outputs": [],
   "source": [
    "for i in range(3,5):\n",
    "    print(i)"
   ]
  },
  {
   "cell_type": "code",
   "execution_count": null,
   "metadata": {
    "collapsed": false
   },
   "outputs": [],
   "source": []
  },
  {
   "cell_type": "code",
   "execution_count": null,
   "metadata": {
    "collapsed": false
   },
   "outputs": [],
   "source": []
  },
  {
   "cell_type": "code",
   "execution_count": null,
   "metadata": {
    "collapsed": false
   },
   "outputs": [],
   "source": []
  },
  {
   "cell_type": "code",
   "execution_count": null,
   "metadata": {
    "collapsed": false
   },
   "outputs": [],
   "source": []
  },
  {
   "cell_type": "code",
   "execution_count": null,
   "metadata": {
    "collapsed": false
   },
   "outputs": [],
   "source": []
  },
  {
   "cell_type": "code",
   "execution_count": null,
   "metadata": {
    "collapsed": false
   },
   "outputs": [],
   "source": []
  },
  {
   "cell_type": "code",
   "execution_count": null,
   "metadata": {
    "collapsed": true
   },
   "outputs": [],
   "source": []
  }
 ],
 "metadata": {
  "kernelspec": {
   "display_name": "Python 3",
   "language": "python",
   "name": "python3"
  },
  "language_info": {
   "codemirror_mode": {
    "name": "ipython",
    "version": 3
   },
   "file_extension": ".py",
   "mimetype": "text/x-python",
   "name": "python",
   "nbconvert_exporter": "python",
   "pygments_lexer": "ipython3",
   "version": "3.5.1"
  }
 },
 "nbformat": 4,
 "nbformat_minor": 0
}
