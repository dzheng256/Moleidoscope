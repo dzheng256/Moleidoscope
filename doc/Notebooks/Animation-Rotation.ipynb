{
 "cells": [
  {
   "cell_type": "code",
   "execution_count": 1,
   "metadata": {
    "collapsed": false
   },
   "outputs": [
    {
     "name": "stderr",
     "output_type": "stream",
     "text": [
      "/home/kutay/anaconda3/lib/python3.5/site-packages/MDAnalysis/__init__.py:190: UserWarning: #####\n",
      "MDAnalysis on python 3 is highly experimental!\n",
      "It is mostly non functional and dramatically untested.\n",
      "Use at your own risks!!!\n",
      "\n",
      "  ''')\n",
      "/home/kutay/anaconda3/lib/python3.5/site-packages/jupyter_core/application.py:106: DeprecationWarning: metadata {'config': True} was set from the constructor.  Metadata should be set using the .tag() method, e.g., Int().tag(key1='value1', key2='value2')\n",
      "  help=\"\"\"Generate default config file.\"\"\"\n",
      "/home/kutay/anaconda3/lib/python3.5/site-packages/notebook/nbextensions.py:286: DeprecationWarning: metadata {'config': True} was set from the constructor.  Metadata should be set using the .tag() method, e.g., Int().tag(key1='value1', key2='value2')\n",
      "  overwrite = Bool(False, config=True, help=\"Force overwrite of existing files\")\n",
      "/home/kutay/anaconda3/lib/python3.5/site-packages/notebook/services/config/manager.py:15: DeprecationWarning: metadata {'config': True} was set from the constructor.  Metadata should be set using the .tag() method, e.g., Int().tag(key1='value1', key2='value2')\n",
      "  config_dir = Unicode(config=True)\n",
      "/home/kutay/anaconda3/lib/python3.5/site-packages/notebook/services/config/manager.py:16: DeprecationWarning: ConfigManager._config_dir_default is deprecated: use @default decorator instead.\n",
      "  def _config_dir_default(self):\n"
     ]
    }
   ],
   "source": [
    "import os, math\n",
    "import warnings\n",
    "\n",
    "from MDAnalysis import Universe, Writer\n",
    "import nglview as nv\n",
    "import mdtraj\n",
    "\n",
    "from moleidoscope.linker import Linker\n",
    "from moleidoscope.line import Line\n",
    "warnings.filterwarnings('ignore') # MDAnalysis creates a lot of warnings"
   ]
  },
  {
   "cell_type": "markdown",
   "metadata": {},
   "source": [
    "## Animation using trajectories ##\n",
    "### Rotation ###"
   ]
  },
  {
   "cell_type": "code",
   "execution_count": 2,
   "metadata": {
    "collapsed": false
   },
   "outputs": [],
   "source": [
    "link = Linker(123)                                          # Create new linker\n",
    "link.center(coor=[5, 0, 0])                                 # Move linker\n",
    "\n",
    "rotation_info = [math.pi/12, [0, 0, 0], [0, 1, 0]]          # Define rotation info\n",
    "y_axis = Line([0, -7, 0], [0, 6, 0]).to_linker()            # Create y axis line\n",
    "\n",
    "linker_paths = []\n",
    "num_of_frames = 200\n",
    "for i in range(num_of_frames):\n",
    "    link = link.rotate(rotation_info)\n",
    "    linker1 = link.join(y_axis)\n",
    "    linker1.name = 'rotation-%i' % i\n",
    "    linker_paths.append(linker1.export())\n",
    "\n",
    "# Create a trajectory from file path list and save as XTC\n",
    "T = mdtraj.load(linker_paths)\n",
    "traj_path = os.path.join('linkers', 'rot_traj.xtc')\n",
    "T.save_xtc(traj_path, force_overwrite=True)\n",
    "\n",
    "# Create a MDAnalysis Universe and show animation\n",
    "u = Universe(linker_paths[0], traj_path)\n",
    "nv.show_mdanalysis(u)"
   ]
  },
  {
   "cell_type": "code",
   "execution_count": null,
   "metadata": {
    "collapsed": false
   },
   "outputs": [],
   "source": []
  },
  {
   "cell_type": "code",
   "execution_count": null,
   "metadata": {
    "collapsed": false
   },
   "outputs": [],
   "source": []
  },
  {
   "cell_type": "code",
   "execution_count": null,
   "metadata": {
    "collapsed": true
   },
   "outputs": [],
   "source": []
  }
 ],
 "metadata": {
  "kernelspec": {
   "display_name": "Python 3",
   "language": "python",
   "name": "python3"
  },
  "language_info": {
   "codemirror_mode": {
    "name": "ipython",
    "version": 3
   },
   "file_extension": ".py",
   "mimetype": "text/x-python",
   "name": "python",
   "nbconvert_exporter": "python",
   "pygments_lexer": "ipython3",
   "version": "3.5.1"
  }
 },
 "nbformat": 4,
 "nbformat_minor": 0
}
