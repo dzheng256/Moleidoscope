{
 "cells": [
  {
   "cell_type": "code",
   "execution_count": 1,
   "metadata": {
    "collapsed": true
   },
   "outputs": [],
   "source": [
    "import os\n",
    "import math\n",
    "from moleidoscope.linker import Linker\n",
    "from moleidoscope.geo.coor import Coor, Mirror"
   ]
  },
  {
   "cell_type": "code",
   "execution_count": 2,
   "metadata": {
    "collapsed": true
   },
   "outputs": [],
   "source": [
    "def scale(p1, p2, p3, size=5):\n",
    "    p11 = []\n",
    "    p21 = []\n",
    "    p31 = []\n",
    "    for i, j ,k in zip(p1, p2, p3):\n",
    "        p11.append(i * size)\n",
    "        p21.append(j * size)\n",
    "        p31.append(k * size)\n",
    "\n",
    "    return p11, p21, p31\n",
    "    "
   ]
  },
  {
   "cell_type": "code",
   "execution_count": 73,
   "metadata": {
    "collapsed": false
   },
   "outputs": [],
   "source": [
    "gs = 10\n",
    "p1 = [0, -1, 0]\n",
    "p2 = [math.sqrt(3), 0, 0]\n",
    "p3 = [math.sqrt(3), 0, 3]\n",
    "\n",
    "a, b, c = scale(p1, p2, p3, size=7)\n",
    "m1 = Mirror(a, b, c)\n",
    "l1 = m1.to_linker(Linker(), grid_size=gs)\n",
    "\n",
    "# -----------------------------------------------------\n",
    "\n",
    "p1 = [math.sqrt(3), 0, 3]\n",
    "p2 = [0, 1, 3]\n",
    "p3 = [0, 1, 0]\n",
    "\n",
    "a, b, c = scale(p1, p2, p3, size=7)\n",
    "m2 = Mirror(a, b, c)\n",
    "l2 = m2.to_linker(Linker(), grid_size=gs)\n",
    "\n",
    "# -----------------------------------------------------\n",
    "\n",
    "p1 = [0, -1, 3]\n",
    "p2 = [0, 1, 3]\n",
    "p3 = [0, 1, 0]\n",
    "\n",
    "a, b, c = scale(p1, p2, p3, size=7)\n",
    "m3 = Mirror(a, b, c)\n",
    "l3 = m3.to_linker(Linker(), grid_size=gs)"
   ]
  },
  {
   "cell_type": "code",
   "execution_count": 74,
   "metadata": {
    "collapsed": false
   },
   "outputs": [],
   "source": [
    "l4 = l1.join(l2)\n",
    "l5 = l4.join(l3)\n",
    "# l5.view()\n"
   ]
  },
  {
   "cell_type": "code",
   "execution_count": 100,
   "metadata": {
    "collapsed": false
   },
   "outputs": [],
   "source": [
    "lm = Linker(23)\n",
    "lm.translate([3, 0, 10])\n",
    "\n",
    "l6 = l5.join(lm)\n",
    "# l6.view()"
   ]
  },
  {
   "cell_type": "code",
   "execution_count": 101,
   "metadata": {
    "collapsed": false
   },
   "outputs": [],
   "source": [
    "lm1 = lm.mirror(m1)\n",
    "lm1.translate([10, -25, 2])\n",
    "lm2 = lm.mirror(m2)\n",
    "lm2.translate([13, 22, 0])\n",
    "lm3 = lm.mirror(m3)\n",
    "\n",
    "l7 = l6.join(lm1)\n",
    "l8 = l7.join(lm2)\n",
    "l9 = l8.join(lm3)\n",
    "l9.name = 'asedasd'\n",
    "l9.view()"
   ]
  },
  {
   "cell_type": "code",
   "execution_count": 63,
   "metadata": {
    "collapsed": false
   },
   "outputs": [],
   "source": [
    "gs = 10\n",
    "p1 = [0, -1, 0]\n",
    "p2 = [math.sqrt(3), 0, 0]\n",
    "p3 = [math.sqrt(3), 0, 3]\n",
    "\n",
    "a, b, c = scale(p1, p2, p3, size=7)\n",
    "m1 = Mirror(a, b, c)\n",
    "l1 = m1.to_linker(Linker(), grid_size=gs)\n",
    "\n",
    "lm = Linker(23)\n",
    "lm1 = lm.mirror(m1)\n",
    "\n",
    "l_new = l1.join(lm1)\n",
    "l_new = l_new.join(lm)\n",
    "l_new.view()"
   ]
  },
  {
   "cell_type": "code",
   "execution_count": null,
   "metadata": {
    "collapsed": false
   },
   "outputs": [],
   "source": []
  },
  {
   "cell_type": "code",
   "execution_count": null,
   "metadata": {
    "collapsed": false
   },
   "outputs": [],
   "source": []
  },
  {
   "cell_type": "code",
   "execution_count": null,
   "metadata": {
    "collapsed": true
   },
   "outputs": [],
   "source": []
  }
 ],
 "metadata": {
  "kernelspec": {
   "display_name": "Python 3",
   "language": "python",
   "name": "python3"
  },
  "language_info": {
   "codemirror_mode": {
    "name": "ipython",
    "version": 3
   },
   "file_extension": ".py",
   "mimetype": "text/x-python",
   "name": "python",
   "nbconvert_exporter": "python",
   "pygments_lexer": "ipython3",
   "version": "3.5.1"
  }
 },
 "nbformat": 4,
 "nbformat_minor": 0
}
